{
 "cells": [
  {
   "cell_type": "code",
   "execution_count": 16,
   "id": "raised-earthquake",
   "metadata": {},
   "outputs": [],
   "source": [
    "import tensorflow"
   ]
  },
  {
   "cell_type": "code",
   "execution_count": 17,
   "id": "mineral-century",
   "metadata": {},
   "outputs": [],
   "source": [
    "import tensorflow.keras"
   ]
  },
  {
   "cell_type": "code",
   "execution_count": 18,
   "id": "taken-convention",
   "metadata": {},
   "outputs": [],
   "source": [
    "import numpy"
   ]
  },
  {
   "cell_type": "code",
   "execution_count": 19,
   "id": "saved-ethiopia",
   "metadata": {},
   "outputs": [],
   "source": [
    "import matplotlib"
   ]
  },
  {
   "cell_type": "code",
   "execution_count": 20,
   "id": "three-pittsburgh",
   "metadata": {},
   "outputs": [
    {
     "name": "stdout",
     "output_type": "stream",
     "text": [
      "Requirement already satisfied: matplotlib in c:\\users\\sbing\\.conda\\envs\\tensorflow\\lib\\site-packages (3.3.3)\n",
      "Requirement already satisfied: kiwisolver>=1.0.1 in c:\\users\\sbing\\.conda\\envs\\tensorflow\\lib\\site-packages (from matplotlib) (1.3.1)\n",
      "Requirement already satisfied: pillow>=6.2.0 in c:\\users\\sbing\\.conda\\envs\\tensorflow\\lib\\site-packages (from matplotlib) (8.1.0)\n",
      "Requirement already satisfied: python-dateutil>=2.1 in c:\\users\\sbing\\.conda\\envs\\tensorflow\\lib\\site-packages (from matplotlib) (2.8.1)\n",
      "Requirement already satisfied: numpy>=1.15 in c:\\users\\sbing\\.conda\\envs\\tensorflow\\lib\\site-packages (from matplotlib) (1.19.2)\n",
      "Requirement already satisfied: cycler>=0.10 in c:\\users\\sbing\\.conda\\envs\\tensorflow\\lib\\site-packages (from matplotlib) (0.10.0)\n",
      "Requirement already satisfied: pyparsing!=2.0.4,!=2.1.2,!=2.1.6,>=2.0.3 in c:\\users\\sbing\\.conda\\envs\\tensorflow\\lib\\site-packages (from matplotlib) (2.4.7)\n",
      "Requirement already satisfied: six in c:\\users\\sbing\\.conda\\envs\\tensorflow\\lib\\site-packages (from cycler>=0.10->matplotlib) (1.15.0)\n"
     ]
    }
   ],
   "source": [
    "! pip install matplotlib"
   ]
  },
  {
   "cell_type": "code",
   "execution_count": 21,
   "id": "signed-abortion",
   "metadata": {},
   "outputs": [],
   "source": [
    "import matplotlib"
   ]
  },
  {
   "cell_type": "markdown",
   "id": "motivated-bride",
   "metadata": {},
   "source": [
    "# Here is some Markdown"
   ]
  },
  {
   "cell_type": "code",
   "execution_count": 22,
   "id": "invisible-addiction",
   "metadata": {},
   "outputs": [],
   "source": [
    "# simple python assignment\n",
    "a = 20\n",
    "b = 5"
   ]
  },
  {
   "cell_type": "code",
   "execution_count": 23,
   "id": "expected-asian",
   "metadata": {},
   "outputs": [
    {
     "data": {
      "text/plain": [
       "100"
      ]
     },
     "execution_count": 23,
     "metadata": {},
     "output_type": "execute_result"
    }
   ],
   "source": [
    "a * b"
   ]
  },
  {
   "cell_type": "code",
   "execution_count": 24,
   "id": "surface-zoning",
   "metadata": {},
   "outputs": [
    {
     "data": {
      "text/plain": [
       "4.0"
      ]
     },
     "execution_count": 24,
     "metadata": {},
     "output_type": "execute_result"
    }
   ],
   "source": [
    "a / b"
   ]
  },
  {
   "cell_type": "code",
   "execution_count": 25,
   "id": "actual-apparatus",
   "metadata": {},
   "outputs": [
    {
     "data": {
      "text/plain": [
       "4"
      ]
     },
     "execution_count": 25,
     "metadata": {},
     "output_type": "execute_result"
    }
   ],
   "source": [
    "int(a/b)"
   ]
  },
  {
   "cell_type": "code",
   "execution_count": 26,
   "id": "round-makeup",
   "metadata": {},
   "outputs": [
    {
     "name": "stdout",
     "output_type": "stream",
     "text": [
      "<module 'numpy.version' from 'C:\\\\Users\\\\sbing\\\\.conda\\\\envs\\\\Tensorflow\\\\lib\\\\site-packages\\\\numpy\\\\version.py'>\n"
     ]
    }
   ],
   "source": [
    "print(numpy.version)"
   ]
  },
  {
   "cell_type": "code",
   "execution_count": 27,
   "id": "prime-darkness",
   "metadata": {},
   "outputs": [
    {
     "name": "stdout",
     "output_type": "stream",
     "text": [
      "absl-py @ file:///tmp/build/80754af9/absl-py_1607439979954/work\n",
      "aiohttp @ file:///C:/ci/aiohttp_1602530358780/work\n",
      "argon2-cffi @ file:///C:/ci/argon2-cffi_1596828549974/work\n",
      "astunparse==1.6.3\n",
      "async-generator==1.10\n",
      "async-timeout==3.0.1\n",
      "attrs @ file:///tmp/build/80754af9/attrs_1604765588209/work\n",
      "backcall==0.2.0\n",
      "bleach @ file:///tmp/build/80754af9/bleach_1600439572647/work\n",
      "blinker==1.4\n",
      "brotlipy==0.7.0\n",
      "cachetools @ file:///tmp/build/80754af9/cachetools_1607706694405/work\n",
      "certifi==2020.12.5\n",
      "cffi @ file:///C:/ci/cffi_1606255207413/work\n",
      "chardet @ file:///C:/ci/chardet_1605303259695/work\n",
      "click @ file:///home/linux1/recipes/ci/click_1610990599742/work\n",
      "colorama @ file:///tmp/build/80754af9/colorama_1607707115595/work\n",
      "cryptography @ file:///C:/ci/cryptography_1607639129468/work\n",
      "cycler==0.10.0\n",
      "decorator==4.4.2\n",
      "defusedxml==0.6.0\n",
      "dill @ file:///tmp/build/80754af9/dill_1605066453875/work\n",
      "entrypoints==0.3\n",
      "future==0.18.2\n",
      "gast==0.3.3\n",
      "google-auth @ file:///tmp/build/80754af9/google-auth_1607969906642/work\n",
      "google-auth-oauthlib @ file:///tmp/build/80754af9/google-auth-oauthlib_1603929124518/work\n",
      "google-pasta==0.2.0\n",
      "googleapis-common-protos @ file:///C:/ci/googleapis-common-protos-feedstock_1600455733359/work\n",
      "grpcio @ file:///C:/ci/grpcio_1597406403308/work\n",
      "h5py==2.10.0\n",
      "idna @ file:///home/linux1/recipes/ci/idna_1610986105248/work\n",
      "importlib-metadata @ file:///tmp/build/80754af9/importlib-metadata_1602276842396/work\n",
      "ipykernel @ file:///C:/ci/ipykernel_1596208728219/work/dist/ipykernel-5.3.4-py3-none-any.whl\n",
      "ipython @ file:///C:/ci/ipython_1604101327119/work\n",
      "ipython-genutils @ file:///tmp/build/80754af9/ipython_genutils_1606773439826/work\n",
      "jedi @ file:///C:/ci/jedi_1608902611503/work\n",
      "Jinja2 @ file:///home/linux1/recipes/ci/jinja2_1610990516718/work\n",
      "jsonschema @ file:///tmp/build/80754af9/jsonschema_1602607155483/work\n",
      "jupyter-client @ file:///tmp/build/80754af9/jupyter_client_1601311786391/work\n",
      "jupyter-core @ file:///C:/ci/jupyter_core_1606130908768/work\n",
      "jupyterlab-pygments @ file:///tmp/build/80754af9/jupyterlab_pygments_1601490720602/work\n",
      "Keras-Applications @ file:///tmp/build/80754af9/keras-applications_1594366238411/work\n",
      "Keras-Preprocessing==1.1.0\n",
      "kiwisolver==1.3.1\n",
      "Markdown @ file:///C:/ci/markdown_1605111187600/work\n",
      "MarkupSafe @ file:///C:/ci/markupsafe_1594405949945/work\n",
      "matplotlib==3.3.3\n",
      "mistune @ file:///C:/ci/mistune_1594373272338/work\n",
      "mkl-fft==1.2.0\n",
      "mkl-random==1.1.1\n",
      "mkl-service==2.3.0\n",
      "multidict @ file:///C:/ci/multidict_1600456486794/work\n",
      "nbclient @ file:///tmp/build/80754af9/nbclient_1602783176460/work\n",
      "nbconvert @ file:///C:/ci/nbconvert_1601914921407/work\n",
      "nbformat @ file:///tmp/build/80754af9/nbformat_1610738111109/work\n",
      "nest-asyncio @ file:///tmp/build/80754af9/nest-asyncio_1606153767164/work\n",
      "notebook @ file:///C:/ci/notebook_1608829952595/work\n",
      "numpy @ file:///C:/ci/numpy_and_numpy_base_1603468620949/work\n",
      "oauthlib==3.1.0\n",
      "opt-einsum==3.1.0\n",
      "packaging @ file:///tmp/build/80754af9/packaging_1607971725249/work\n",
      "pandocfilters @ file:///C:/ci/pandocfilters_1605102427207/work\n",
      "parso==0.7.0\n",
      "pickleshare @ file:///tmp/build/80754af9/pickleshare_1606932040724/work\n",
      "Pillow==8.1.0\n",
      "prometheus-client @ file:///tmp/build/80754af9/prometheus_client_1606344362066/work\n",
      "promise @ file:///C:/ci/promise_1598031850537/work\n",
      "prompt-toolkit @ file:///tmp/build/80754af9/prompt-toolkit_1602688806899/work\n",
      "protobuf==3.13.0\n",
      "psutil @ file:///C:/ci/psutil_1598352273540/work\n",
      "pyasn1==0.4.8\n",
      "pyasn1-modules==0.2.8\n",
      "pycparser @ file:///tmp/build/80754af9/pycparser_1594388511720/work\n",
      "Pygments @ file:///tmp/build/80754af9/pygments_1610565767015/work\n",
      "PyJWT==1.7.1\n",
      "pyOpenSSL @ file:///tmp/build/80754af9/pyopenssl_1608057966937/work\n",
      "pyparsing @ file:///home/linux1/recipes/ci/pyparsing_1610983426697/work\n",
      "pyreadline==2.1\n",
      "pyrsistent @ file:///C:/ci/pyrsistent_1600123688363/work\n",
      "PySocks @ file:///C:/ci/pysocks_1594394709107/work\n",
      "python-dateutil==2.8.1\n",
      "pywin32==227\n",
      "pywinpty==0.5.7\n",
      "pyzmq==20.0.0\n",
      "requests @ file:///tmp/build/80754af9/requests_1608241421344/work\n",
      "requests-oauthlib==1.3.0\n",
      "rsa @ file:///tmp/build/80754af9/rsa_1610483308194/work\n",
      "scipy @ file:///C:/ci/scipy_1597686737426/work\n",
      "Send2Trash @ file:///tmp/build/80754af9/send2trash_1607525499227/work\n",
      "six @ file:///C:/ci/six_1605205426665/work\n",
      "tensorboard @ file:///home/builder/ktietz/conda/conda-bld/tensorboard_1604313476433/work/tmp_pip_dir\n",
      "tensorboard-plugin-wit==1.6.0\n",
      "tensorflow==2.3.0\n",
      "tensorflow-datasets==1.2.0\n",
      "tensorflow-estimator @ file:///tmp/build/80754af9/tensorflow-estimator_1599136169057/work/whl_temp/tensorflow_estimator-2.3.0-py2.py3-none-any.whl\n",
      "tensorflow-metadata==0.14.0\n",
      "termcolor==1.1.0\n",
      "terminado==0.9.2\n",
      "testpath==0.4.4\n",
      "tornado @ file:///C:/ci/tornado_1606935947090/work\n",
      "tqdm @ file:///tmp/build/80754af9/tqdm_1609788246169/work\n",
      "traitlets @ file:///tmp/build/80754af9/traitlets_1602787416690/work\n",
      "urllib3 @ file:///tmp/build/80754af9/urllib3_1606938623459/work\n",
      "wcwidth @ file:///tmp/build/80754af9/wcwidth_1593447189090/work\n",
      "webencodings==0.5.1\n",
      "Werkzeug==1.0.1\n",
      "win-inet-pton @ file:///C:/ci/win_inet_pton_1605306165655/work\n",
      "wincertstore==0.2\n",
      "wrapt==1.12.1\n",
      "yarl @ file:///C:/ci/yarl_1606940114600/work\n",
      "zipp @ file:///tmp/build/80754af9/zipp_1604001098328/work\n"
     ]
    }
   ],
   "source": [
    "!pip freeze"
   ]
  },
  {
   "cell_type": "markdown",
   "id": "eligible-death",
   "metadata": {},
   "source": [
    "# h1 Heading 8-)\n",
    "## h2 Heading\n",
    "### h3 Heading\n",
    "#### h4 Heading\n",
    "##### h5 Heading\n",
    "###### h6 Heading"
   ]
  },
  {
   "cell_type": "code",
   "execution_count": 28,
   "id": "numerous-likelihood",
   "metadata": {},
   "outputs": [],
   "source": [
    "a =3"
   ]
  },
  {
   "cell_type": "code",
   "execution_count": 29,
   "id": "material-temple",
   "metadata": {},
   "outputs": [],
   "source": [
    "b = 4"
   ]
  },
  {
   "cell_type": "code",
   "execution_count": 30,
   "id": "rising-colombia",
   "metadata": {},
   "outputs": [],
   "source": [
    "b = 7"
   ]
  },
  {
   "cell_type": "code",
   "execution_count": 31,
   "id": "foreign-tourism",
   "metadata": {},
   "outputs": [
    {
     "data": {
      "text/plain": [
       "10"
      ]
     },
     "execution_count": 31,
     "metadata": {},
     "output_type": "execute_result"
    }
   ],
   "source": [
    "a + b"
   ]
  },
  {
   "cell_type": "code",
   "execution_count": 32,
   "id": "split-enlargement",
   "metadata": {},
   "outputs": [],
   "source": [
    "# import tensorfl0w and tensorflow.keras libraries"
   ]
  },
  {
   "cell_type": "code",
   "execution_count": 33,
   "id": "acknowledged-motel",
   "metadata": {},
   "outputs": [],
   "source": [
    "import random"
   ]
  },
  {
   "cell_type": "code",
   "execution_count": 34,
   "id": "authentic-apparatus",
   "metadata": {},
   "outputs": [],
   "source": [
    "a = []"
   ]
  },
  {
   "cell_type": "code",
   "execution_count": 35,
   "id": "tamil-waters",
   "metadata": {},
   "outputs": [
    {
     "name": "stdout",
     "output_type": "stream",
     "text": [
      "300\n"
     ]
    }
   ],
   "source": [
    "for _ in range(300):\n",
    "    a.append(random.randrange(20))\n",
    "print(len(a))"
   ]
  },
  {
   "cell_type": "code",
   "execution_count": 36,
   "id": "trained-spokesman",
   "metadata": {},
   "outputs": [
    {
     "data": {
      "text/plain": [
       "12"
      ]
     },
     "execution_count": 36,
     "metadata": {},
     "output_type": "execute_result"
    }
   ],
   "source": [
    "a[0] + a[3]"
   ]
  },
  {
   "cell_type": "code",
   "execution_count": 37,
   "id": "modern-length",
   "metadata": {},
   "outputs": [
    {
     "data": {
      "text/plain": [
       "12"
      ]
     },
     "execution_count": 37,
     "metadata": {},
     "output_type": "execute_result"
    }
   ],
   "source": [
    "a[0] + a[3]"
   ]
  },
  {
   "cell_type": "code",
   "execution_count": 38,
   "id": "proud-warner",
   "metadata": {},
   "outputs": [],
   "source": [
    "a[0] = 99"
   ]
  },
  {
   "cell_type": "code",
   "execution_count": 39,
   "id": "golden-interference",
   "metadata": {},
   "outputs": [
    {
     "name": "stdout",
     "output_type": "stream",
     "text": [
      "300\n",
      "300\n"
     ]
    }
   ],
   "source": [
    "a_orig = []\n",
    "for _ in range(300):\n",
    "    a_orig.append(random.randrange(20))\n",
    "print(len(a))\n",
    "print(len(a_orig))"
   ]
  },
  {
   "cell_type": "code",
   "execution_count": 40,
   "id": "compliant-metropolitan",
   "metadata": {},
   "outputs": [],
   "source": [
    "a = a_orig.copy()\n",
    "a_subset = a_orig[3:50]"
   ]
  },
  {
   "cell_type": "code",
   "execution_count": 41,
   "id": "patient-classics",
   "metadata": {},
   "outputs": [
    {
     "data": {
      "text/plain": [
       "19"
      ]
     },
     "execution_count": 41,
     "metadata": {},
     "output_type": "execute_result"
    }
   ],
   "source": [
    "a[0] + a[3]"
   ]
  },
  {
   "cell_type": "code",
   "execution_count": 42,
   "id": "authorized-maximum",
   "metadata": {},
   "outputs": [],
   "source": [
    "a = a_orig.copy()\n",
    "a_subset1 = a_orig[0:100]\n",
    "a_subset2 = a_orig[100:200]\n",
    "a_subset2 = a_orig[200:300]"
   ]
  },
  {
   "cell_type": "code",
   "execution_count": 43,
   "id": "material-apollo",
   "metadata": {},
   "outputs": [
    {
     "name": "stdout",
     "output_type": "stream",
     "text": [
      "a\t a_orig\t a_subset\t a_subset1\t a_subset2\t b\t matplotlib\t numpy\t random\t \n",
      "tensorflow\t \n"
     ]
    }
   ],
   "source": [
    "%who"
   ]
  },
  {
   "cell_type": "code",
   "execution_count": null,
   "id": "serial-salvation",
   "metadata": {},
   "outputs": [],
   "source": []
  }
 ],
 "metadata": {
  "kernelspec": {
   "display_name": "Python 3",
   "language": "python",
   "name": "python3"
  },
  "language_info": {
   "codemirror_mode": {
    "name": "ipython",
    "version": 3
   },
   "file_extension": ".py",
   "mimetype": "text/x-python",
   "name": "python",
   "nbconvert_exporter": "python",
   "pygments_lexer": "ipython3",
   "version": "3.7.9"
  }
 },
 "nbformat": 4,
 "nbformat_minor": 5
}
